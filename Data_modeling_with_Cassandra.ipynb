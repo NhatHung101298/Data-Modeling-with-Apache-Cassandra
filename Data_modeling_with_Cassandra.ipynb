{
 "cells": [
  {
   "cell_type": "code",
   "execution_count": 1,
   "metadata": {},
   "outputs": [],
   "source": [
    "import pandas as pd \n",
    "import cassandra\n",
    "import re \n",
    "import os \n",
    "import glob \n",
    "import numpy as np \n",
    "import json \n",
    "import csv "
   ]
  },
  {
   "cell_type": "code",
   "execution_count": 3,
   "metadata": {},
   "outputs": [
    {
     "name": "stdout",
     "output_type": "stream",
     "text": [
      "Connection Failed !! Error : ('Unable to connect to any servers', {'127.0.0.1:9042': ConnectionRefusedError(61, \"Tried connecting to [('127.0.0.1', 9042)]. Last error: Connection refused\")})\n"
     ]
    }
   ],
   "source": [
    "# Creating a cluser \n",
    "\n",
    "from cassandra.cluster import Cluster\n",
    "try:\n",
    "    cluster = Cluster(['127.0.0.1'])\n",
    "    session = cluster.connect()\n",
    "    print(\"Connection Established !!\")\n",
    "except Exception as e:\n",
    "    print(f\"Connection Failed !! Error : {e}\")"
   ]
  },
  {
   "cell_type": "code",
   "execution_count": 4,
   "metadata": {},
   "outputs": [
    {
     "name": "stdout",
     "output_type": "stream",
     "text": [
      "Current working directory: /Users/hungtran/Documents/Tài liệu/Data Engineer/Data_Modeling_with_Apache_Cassandra\n"
     ]
    }
   ],
   "source": [
    "# checking current working directory  \n",
    "print(f'Current working directory: {os.getcwd()}')\n",
    "\n",
    "# Get current folder and subfolder event data \n",
    "filepath = os.getcwd() + '/event_data'\n",
    "\n",
    "# Create a list of files and collect each filepath \n",
    "for root, dirs, files in os.walk(filepath):\n",
    "    file_path_list = glob.glob(os.path.join(root,'*'))"
   ]
  },
  {
   "attachments": {},
   "cell_type": "markdown",
   "metadata": {},
   "source": [
    "### Processing the files to create the data file csv that will be used for Apache Cassandra tables"
   ]
  },
  {
   "cell_type": "code",
   "execution_count": 8,
   "metadata": {},
   "outputs": [
    {
     "name": "stdout",
     "output_type": "stream",
     "text": [
      "Total row: 8056\n",
      "Sample data: [['Harmonia', 'Logged In', 'Ryan', 'M', '0', 'Smith', '655.77751', 'free', 'San Jose-Sunnyvale-Santa Clara, CA', 'PUT', 'NextSong', '1.54102E+12', '583', 'Sehr kosmisch', '200', '1.54224E+12', '26'], ['The Prodigy', 'Logged In', 'Ryan', 'M', '1', 'Smith', '260.07465', 'free', 'San Jose-Sunnyvale-Santa Clara, CA', 'PUT', 'NextSong', '1.54102E+12', '583', 'The Big Gundown', '200', '1.54224E+12', '26'], ['Train', 'Logged In', 'Ryan', 'M', '2', 'Smith', '205.45261', 'free', 'San Jose-Sunnyvale-Santa Clara, CA', 'PUT', 'NextSong', '1.54102E+12', '583', 'Marry Me', '200', '1.54224E+12', '26'], ['', 'Logged In', 'Wyatt', 'M', '0', 'Scott', '', 'free', 'Eureka-Arcata-Fortuna, CA', 'GET', 'Home', '1.54087E+12', '563', '', '200', '1.54225E+12', '9'], ['', 'Logged In', 'Austin', 'M', '0', 'Rosales', '', 'free', 'New York-Newark-Jersey City, NY-NJ-PA', 'GET', 'Home', '1.54106E+12', '521', '', '200', '1.54225E+12', '12']]\n"
     ]
    }
   ],
   "source": [
    "# initiating an empty list of rows that will be generated from each file \n",
    "full_data_row_list = []\n",
    "\n",
    "# for every filepath in the file path list \n",
    "for f in file_path_list: \n",
    "    with open(f, 'r', encoding='utf8', newline='') as csvfile: \n",
    "        # creating a csv reader object \n",
    "        csvreader = csv.reader(csvfile)\n",
    "        next(csvreader)\n",
    "\n",
    "    # extracting each data row one by one and append it \n",
    "        for line in csvreader:\n",
    "            full_data_row_list.append(line)\n",
    "\n",
    "print(f\"Total row: {len(full_data_row_list)}\")\n",
    "print(f\"Sample data: {full_data_row_list[:5]}\")\n",
    "\n",
    "# creating s smaller event data csv file called event_datafile_full csv that will be used to insert data into the Cassandra table \n",
    "\n",
    "csv.register_dialect('myDialect', quoting=csv.QUOTE_ALL, skipinitialspace=True)\n",
    "\n",
    "with open('event_datafile_new.csv', 'w', encoding = 'utf8', newline='') as f:\n",
    "    writer = csv.writer(f, dialect='myDialect')\n",
    "    writer.writerow(['artist','firstName','gender','itemInSession','lastName','length',\\\n",
    "                'level','location','sessionId','song','userId'])\n",
    "    for row in full_data_row_list:\n",
    "        if (row[0] == ''):\n",
    "            continue\n",
    "        writer.writerow((row[0], row[2], row[3], row[4], row[5], row[6], row[7], row[8], row[12], row[13], row[16]))"
   ]
  },
  {
   "cell_type": "code",
   "execution_count": null,
   "metadata": {},
   "outputs": [],
   "source": [
    "# Creating Keyspace \n",
    "\n",
    "keyspace_query = \"\"\"    CREATE KEYSPACE IF NOT EXISTS sparkify\n",
    "                        with REPLICATION =  {'class': 'SimpleStrategy', 'replication_factor' : 1} \"\"\"\n",
    "\n",
    "# Creating Keyspace \n",
    "try: \n",
    "    session.execute(keyspace_query)\n",
    "except Exception as e:\n",
    "    print(f'Failed to create keyspace!! Error : {e}')"
   ]
  },
  {
   "cell_type": "code",
   "execution_count": null,
   "metadata": {},
   "outputs": [],
   "source": [
    "# Setting Keyspace \n",
    "session.set_keyspace('sparkify')"
   ]
  },
  {
   "cell_type": "code",
   "execution_count": null,
   "metadata": {},
   "outputs": [],
   "source": [
    "# Create table for query\n",
    "create_query1 = \"\"\"\n",
    "                CREATE TABLE IF NOT EXISTS session_item (\n",
    "                    artist text, \n",
    "                    song text, \n",
    "                    length float, \n",
    "                    sessionId int,\n",
    "                    itemInSession text,\n",
    "                    PRIMARY KEY (sessionID, (itemInSessionID))\n",
    "                )\n",
    "                \"\"\"\n",
    "\n",
    "try:\n",
    "    session.execute(create_query1)\n",
    "except Exception as e: \n",
    "    print(f'Table creation failed!! Error: {e}')"
   ]
  },
  {
   "cell_type": "code",
   "execution_count": null,
   "metadata": {},
   "outputs": [],
   "source": [
    "# Using the event file \n",
    "file = 'event_datafile_new.csv'\n",
    "\n",
    "# Reading csv file and inserting rows into cassandra tables\n",
    "with open(file, encoding = 'utf8') as f: \n",
    "    csvreader = csv.reader(f)\n",
    "    next(csvreader)\n",
    "    for line in csvreader: \n",
    "        query = \"INSERT INTO session_item (artist, song, length, sessionId, itemInSession) VALUES (%s,%s,%s,%s,%s)\"\n",
    "        session.execute(query,(line[0], line[10], float(line[5]), int(line[8]), int(line[3])) )"
   ]
  },
  {
   "cell_type": "code",
   "execution_count": null,
   "metadata": {},
   "outputs": [],
   "source": [
    "# SELECT statement to verify that the data have been inserted into each table\n",
    "select_query1 = \"SELECT artist, song, length FROM session_item where sessionID = 338 and itemInSession = 4\"\n",
    "try: \n",
    "    rows = session.execute(select_query1)\n",
    "except Exception as e: \n",
    "    print(e)\n",
    "\n",
    "for row in rows:\n",
    "    print(row)"
   ]
  },
  {
   "cell_type": "code",
   "execution_count": null,
   "metadata": {},
   "outputs": [],
   "source": [
    "# Creating table for query2\n",
    "create_query2 = \"\"\"\n",
    "                CREATE TABLE IF NOT EXISTS user_session(\n",
    "                    sessionID int, \n",
    "                    userId int,\n",
    "                    artist text, \n",
    "                    song text, \n",
    "                    firstName text, \n",
    "                    lastName text,\n",
    "                    PRIMARY KEy ((sessionId, userID), itemInSession)\n",
    "                )\n",
    "                \"\"\"\n",
    "try:\n",
    "    session.execute(create_query1)\n",
    "except Exception as e:\n",
    "    print(e)"
   ]
  },
  {
   "cell_type": "code",
   "execution_count": null,
   "metadata": {},
   "outputs": [],
   "source": [
    "file = 'event_datafile_new.csv'\n",
    "\n",
    "with open(file, encoding = 'utf8') as f:\n",
    "    csvreader = csvreader(f)\n",
    "    next(csvreader)\n",
    "    for line in csvreader:\n",
    "        query = \"INSERT INTO user_session (sessionId, userId, artist, song, firstName, lastName, itemInSession)\"\n",
    "        query = query + \"VALUES (%s,%s,%s,%s,%s,%s,%s)\"\n",
    "        session.execute(query, (int(line[8]), int(line[10]), line[0], line[9], line[1], line[4], int(line[3])))"
   ]
  },
  {
   "cell_type": "code",
   "execution_count": null,
   "metadata": {},
   "outputs": [],
   "source": [
    "# SELECT statement to verify that the data was entered into the table \n",
    "select_query2 = \"SELECT artist, song, firstName, lastName FROM user_session where sessionId = 182 and userId = 1\"\n",
    "try:\n",
    "    rows = session.execute(select_query2)\n",
    "except Exception as e: \n",
    "    print(e)"
   ]
  },
  {
   "cell_type": "code",
   "execution_count": null,
   "metadata": {},
   "outputs": [],
   "source": [
    "# Drop the tables before closing the session\n",
    "session.execute(\"DROP TABLE IF EXISTS sparkify.session_item\")\n",
    "session.execute(\"DROP TABLE IF EXISTS sparkify.user_session\")"
   ]
  }
 ],
 "metadata": {
  "kernelspec": {
   "display_name": "Python 3",
   "language": "python",
   "name": "python3"
  },
  "language_info": {
   "codemirror_mode": {
    "name": "ipython",
    "version": 3
   },
   "file_extension": ".py",
   "mimetype": "text/x-python",
   "name": "python",
   "nbconvert_exporter": "python",
   "pygments_lexer": "ipython3",
   "version": "3.10.8"
  },
  "orig_nbformat": 4
 },
 "nbformat": 4,
 "nbformat_minor": 2
}
